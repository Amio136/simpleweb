{
  "nbformat": 4,
  "nbformat_minor": 0,
  "metadata": {
    "colab": {
      "name": "Running Flask on Google Colab.ipynb",
      "provenance": [],
      "include_colab_link": true
    },
    "kernelspec": {
      "name": "python3",
      "display_name": "Python 3"
    }
  },
  "cells": [
    {
      "cell_type": "markdown",
      "metadata": {
        "id": "view-in-github",
        "colab_type": "text"
      },
      "source": [
        "<a href=\"https://colab.research.google.com/github/opencoca/simpleweb/blob/master/Running_Flask_on_Google_Colab.ipynb\" target=\"_parent\"><img src=\"https://colab.research.google.com/assets/colab-badge.svg\" alt=\"Open In Colab\"/></a>"
      ]
    },
    {
      "cell_type": "markdown",
      "metadata": {
        "id": "JbOrH2S7knXh"
      },
      "source": [
        "This is a small python web server that can be run in Google Colab and Jupyter Notebook. It uses ngrok to allow for public access. "
      ]
    },
    {
      "cell_type": "code",
      "metadata": {
        "id": "PMrsudTcE81_",
        "colab": {
          "base_uri": "https://localhost:8080/"
        },
        "outputId": "95dcce02-2ae1-4b8d-9c25-8bc091a57ece"
      },
      "source": [
        "!pip install flask-ngrok"
      ],
      "execution_count": null,
      "outputs": [
        {
          "output_type": "stream",
          "text": [
            "Collecting flask-ngrok\n",
            "  Downloading https://files.pythonhosted.org/packages/af/6c/f54cb686ad1129e27d125d182f90f52b32f284e6c8df58c1bae54fa1adbc/flask_ngrok-0.0.25-py3-none-any.whl\n",
            "Requirement already satisfied: requests in /usr/local/lib/python3.7/dist-packages (from flask-ngrok) (2.23.0)\n",
            "Requirement already satisfied: Flask>=0.8 in /usr/local/lib/python3.7/dist-packages (from flask-ngrok) (1.1.2)\n",
            "Requirement already satisfied: certifi>=2017.4.17 in /usr/local/lib/python3.7/dist-packages (from requests->flask-ngrok) (2020.12.5)\n",
            "Requirement already satisfied: urllib3!=1.25.0,!=1.25.1,<1.26,>=1.21.1 in /usr/local/lib/python3.7/dist-packages (from requests->flask-ngrok) (1.24.3)\n",
            "Requirement already satisfied: chardet<4,>=3.0.2 in /usr/local/lib/python3.7/dist-packages (from requests->flask-ngrok) (3.0.4)\n",
            "Requirement already satisfied: idna<3,>=2.5 in /usr/local/lib/python3.7/dist-packages (from requests->flask-ngrok) (2.10)\n",
            "Requirement already satisfied: Jinja2>=2.10.1 in /usr/local/lib/python3.7/dist-packages (from Flask>=0.8->flask-ngrok) (2.11.3)\n",
            "Requirement already satisfied: Werkzeug>=0.15 in /usr/local/lib/python3.7/dist-packages (from Flask>=0.8->flask-ngrok) (1.0.1)\n",
            "Requirement already satisfied: click>=5.1 in /usr/local/lib/python3.7/dist-packages (from Flask>=0.8->flask-ngrok) (7.1.2)\n",
            "Requirement already satisfied: itsdangerous>=0.24 in /usr/local/lib/python3.7/dist-packages (from Flask>=0.8->flask-ngrok) (1.1.0)\n",
            "Requirement already satisfied: MarkupSafe>=0.23 in /usr/local/lib/python3.7/dist-packages (from Jinja2>=2.10.1->Flask>=0.8->flask-ngrok) (1.1.1)\n",
            "Installing collected packages: flask-ngrok\n",
            "Successfully installed flask-ngrok-0.0.25\n"
          ],
          "name": "stdout"
        }
      ]
    },
    {
      "cell_type": "code",
      "metadata": {
        "id": "gZa5J_DJjEI_"
      },
      "source": [
        "#this makes a static folder to put our static files is.\n",
        "!mkdir -p web/static"
      ],
      "execution_count": null,
      "outputs": []
    },
    {
      "cell_type": "markdown",
      "metadata": {
        "id": "TMpwGVfxpJ-g"
      },
      "source": [
        ""
      ]
    },
    {
      "cell_type": "code",
      "metadata": {
        "id": "5kBARwX7Npdq",
        "colab": {
          "base_uri": "https://localhost:8080/"
        },
        "outputId": "71bf6c5b-dd21-485d-9506-e1356ac8e871"
      },
      "source": [
        "!git clone https://github.com/opencoca/simpleweb.git"
      ],
      "execution_count": null,
      "outputs": [
        {
          "output_type": "stream",
          "text": [
            "Cloning into 'simpleweb'...\n",
            "remote: Enumerating objects: 34, done.\u001b[K\n",
            "remote: Counting objects: 100% (34/34), done.\u001b[K\n",
            "remote: Compressing objects: 100% (25/25), done.\u001b[K\n",
            "remote: Total 34 (delta 9), reused 0 (delta 0), pack-reused 0\u001b[K\n",
            "Unpacking objects: 100% (34/34), done.\n"
          ],
          "name": "stdout"
        }
      ]
    },
    {
      "cell_type": "code",
      "metadata": {
        "id": "1balREYgNrpx",
        "colab": {
          "base_uri": "https://localhost:8080/"
        },
        "outputId": "9b349d08-7977-4c25-c291-4a28c64a7af1"
      },
      "source": [
        "#Move into the simpleweb directory\n",
        "\n",
        "%cd simpleweb/"
      ],
      "execution_count": null,
      "outputs": [
        {
          "output_type": "stream",
          "text": [
            "/content/simpleweb\n"
          ],
          "name": "stdout"
        }
      ]
    },
    {
      "cell_type": "code",
      "metadata": {
        "id": "lHSeR9gQN548",
        "colab": {
          "base_uri": "https://localhost:8080/"
        },
        "outputId": "a603f38e-19fb-44da-a94d-b9ff6066d8c8"
      },
      "source": [
        "#list the files in the simpleweb directory\n",
        "!ls "
      ],
      "execution_count": null,
      "outputs": [
        {
          "output_type": "stream",
          "text": [
            "LICENSE  README.md  web\n"
          ],
          "name": "stdout"
        }
      ]
    },
    {
      "cell_type": "code",
      "metadata": {
        "id": "BknJWmZEN-Zd"
      },
      "source": [
        "#Make a web directory if one doesn't exit\n",
        "!mkdir -p web"
      ],
      "execution_count": null,
      "outputs": []
    },
    {
      "cell_type": "code",
      "metadata": {
        "id": "Urt_IuPkOGzh"
      },
      "source": [
        "#Make static and templates directories if they don't exist\n",
        "!mkdir -p web/static\n",
        "!mkdir -p web/templates"
      ],
      "execution_count": null,
      "outputs": []
    },
    {
      "cell_type": "code",
      "metadata": {
        "id": "Xf0cZH0UOSAq"
      },
      "source": [
        "#Touching the files to ensure that they are in the static and templates\n",
        "!touch web/static/index.html\n",
        "!touch web/templates/index.html"
      ],
      "execution_count": null,
      "outputs": []
    },
    {
      "cell_type": "code",
      "metadata": {
        "id": "Lnn4D-2WTg8d"
      },
      "source": [
        "#!git remote set-url origin Your REPO NAME HERE"
      ],
      "execution_count": null,
      "outputs": []
    },
    {
      "cell_type": "code",
      "metadata": {
        "id": "SdUJlAnyQo-O"
      },
      "source": [
        "!cat .git/config"
      ],
      "execution_count": null,
      "outputs": []
    },
    {
      "cell_type": "code",
      "metadata": {
        "id": "pGeXnuVNO2jg"
      },
      "source": [
        "#!git add *\n"
      ],
      "execution_count": null,
      "outputs": []
    },
    {
      "cell_type": "code",
      "metadata": {
        "id": "CCvgOPqYPBp5"
      },
      "source": [
        "#!git config --global user.email \"Your email here\"\n",
        "#!git config --global user.name \"your name here\""
      ],
      "execution_count": null,
      "outputs": []
    },
    {
      "cell_type": "code",
      "metadata": {
        "id": "A_Pgl_XQO-Dt"
      },
      "source": [
        "#!git commit -m \"my latest touch\""
      ],
      "execution_count": null,
      "outputs": []
    },
    {
      "cell_type": "code",
      "metadata": {
        "id": "CUN60r39Rj1_"
      },
      "source": [
        "#!git push "
      ],
      "execution_count": null,
      "outputs": []
    },
    {
      "cell_type": "code",
      "metadata": {
        "id": "xGzADLpRRmCX"
      },
      "source": [
        ""
      ],
      "execution_count": null,
      "outputs": []
    },
    {
      "cell_type": "code",
      "metadata": {
        "id": "TJtTUUc_E67t",
        "colab": {
          "base_uri": "https://localhost:8080/"
        },
        "outputId": "1fbe9950-3ee0-42fb-85d8-d5b0b80d8a28"
      },
      "source": [
        "\"\"\"The following will run a small flask server that will serve static files from web/static and will provide a template folder of web/templates\"\"\"\n",
        "\n",
        "from flask_ngrok import run_with_ngrok\n",
        "import time\n",
        "from flask import Flask\n",
        "app = Flask(__name__,\n",
        "            static_url_path='', \n",
        "            static_folder='web/static',\n",
        "            template_folder='web/templates')\n",
        "run_with_ngrok(app)   #starts ngrok when the app is run\n",
        "\n",
        "@app.route('/')\n",
        "def root():\n",
        "    return app.send_static_file('index.html')\n",
        "\n",
        "#These lines are commented out so as to only server static files and not dynamic content\n",
        "#@app.route('/')\n",
        "#def root():\n",
        "#    #return \"This can be anything\"\n",
        "#    return \"<html><h1>\"+str(time.ctime())+\"</h1></html>\"\n",
        "\n",
        "app.run()"
      ],
      "execution_count": 7,
      "outputs": [
        {
          "output_type": "stream",
          "text": [
            " * Serving Flask app \"__main__\" (lazy loading)\n",
            " * Environment: production\n",
            "\u001b[31m   WARNING: This is a development server. Do not use it in a production deployment.\u001b[0m\n",
            "\u001b[2m   Use a production WSGI server instead.\u001b[0m\n",
            " * Debug mode: off\n"
          ],
          "name": "stdout"
        },
        {
          "output_type": "stream",
          "text": [
            " * Running on http://127.0.0.1:5000/ (Press CTRL+C to quit)\n"
          ],
          "name": "stderr"
        },
        {
          "output_type": "stream",
          "text": [
            " * Running on http://ab3605fdd0b5.ngrok.io\n",
            " * Traffic stats available on http://127.0.0.1:4040\n"
          ],
          "name": "stdout"
        },
        {
          "output_type": "stream",
          "text": [
            "127.0.0.1 - - [18/Mar/2021 18:41:57] \"\u001b[37mGET / HTTP/1.1\u001b[0m\" 200 -\n",
            "127.0.0.1 - - [18/Mar/2021 18:41:57] \"\u001b[33mGET /assets/icons/favicon-32x32.png HTTP/1.1\u001b[0m\" 404 -\n",
            "127.0.0.1 - - [18/Mar/2021 18:41:57] \"\u001b[33mGET /assets/icons/favicon-16x16.png HTTP/1.1\u001b[0m\" 404 -\n",
            "127.0.0.1 - - [18/Mar/2021 18:41:58] \"\u001b[33mGET /assets/icons/favicon.ico HTTP/1.1\u001b[0m\" 404 -\n",
            "127.0.0.1 - - [18/Mar/2021 18:41:58] \"\u001b[33mGET /assets/icons/favicon.ico HTTP/1.1\u001b[0m\" 404 -\n",
            "127.0.0.1 - - [18/Mar/2021 18:41:58] \"\u001b[33mGET /assets/icons/favicon-32x32.png HTTP/1.1\u001b[0m\" 404 -\n",
            "127.0.0.1 - - [18/Mar/2021 18:41:58] \"\u001b[33mGET /assets/icons/favicon-16x16.png HTTP/1.1\u001b[0m\" 404 -\n",
            "127.0.0.1 - - [18/Mar/2021 18:42:00] \"\u001b[37mGET /about.html HTTP/1.1\u001b[0m\" 200 -\n",
            "127.0.0.1 - - [18/Mar/2021 18:42:00] \"\u001b[33mGET /assets/icons/favicon-32x32.png HTTP/1.1\u001b[0m\" 404 -\n",
            "127.0.0.1 - - [18/Mar/2021 18:42:00] \"\u001b[33mGET /assets/icons/favicon-16x16.png HTTP/1.1\u001b[0m\" 404 -\n",
            "127.0.0.1 - - [18/Mar/2021 18:42:01] \"\u001b[33mGET /assets/icons/favicon.ico HTTP/1.1\u001b[0m\" 404 -\n",
            "127.0.0.1 - - [18/Mar/2021 18:42:03] \"\u001b[37mGET /index.html HTTP/1.1\u001b[0m\" 200 -\n",
            "127.0.0.1 - - [18/Mar/2021 18:42:03] \"\u001b[33mGET /assets/icons/favicon-32x32.png HTTP/1.1\u001b[0m\" 404 -\n",
            "127.0.0.1 - - [18/Mar/2021 18:42:04] \"\u001b[33mGET /assets/icons/favicon-16x16.png HTTP/1.1\u001b[0m\" 404 -\n",
            "127.0.0.1 - - [18/Mar/2021 18:42:04] \"\u001b[33mGET /assets/icons/favicon.ico HTTP/1.1\u001b[0m\" 404 -\n",
            "127.0.0.1 - - [18/Mar/2021 20:19:46] \"\u001b[37mGET / HTTP/1.1\u001b[0m\" 200 -\n",
            "127.0.0.1 - - [18/Mar/2021 20:19:46] \"\u001b[33mGET /assets/icons/favicon-32x32.png HTTP/1.1\u001b[0m\" 404 -\n",
            "127.0.0.1 - - [18/Mar/2021 20:19:46] \"\u001b[33mGET /assets/icons/favicon-16x16.png HTTP/1.1\u001b[0m\" 404 -\n",
            "127.0.0.1 - - [18/Mar/2021 20:19:46] \"\u001b[33mGET /assets/icons/favicon.ico HTTP/1.1\u001b[0m\" 404 -\n",
            "127.0.0.1 - - [18/Mar/2021 20:19:47] \"\u001b[33mGET /assets/icons/favicon.ico HTTP/1.1\u001b[0m\" 404 -\n",
            "127.0.0.1 - - [18/Mar/2021 20:19:47] \"\u001b[33mGET /assets/icons/favicon-32x32.png HTTP/1.1\u001b[0m\" 404 -\n",
            "127.0.0.1 - - [18/Mar/2021 20:19:47] \"\u001b[33mGET /assets/icons/favicon-16x16.png HTTP/1.1\u001b[0m\" 404 -\n"
          ],
          "name": "stderr"
        }
      ]
    }
  ]
}