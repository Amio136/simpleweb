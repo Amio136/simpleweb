{
  "nbformat": 4,
  "nbformat_minor": 0,
  "metadata": {
    "colab": {
      "name": "Running Flask on Google Colab.ipynb",
      "provenance": [],
      "collapsed_sections": [],
      "include_colab_link": true
    },
    "kernelspec": {
      "name": "python3",
      "display_name": "Python 3"
    }
  },
  "cells": [
    {
      "cell_type": "markdown",
      "metadata": {
        "id": "view-in-github",
        "colab_type": "text"
      },
      "source": [
        "<a href=\"https://colab.research.google.com/github/opencoca/simpleweb/blob/master/Running_Flask_on_Google_Colab.ipynb\" target=\"_parent\"><img src=\"https://colab.research.google.com/assets/colab-badge.svg\" alt=\"Open In Colab\"/></a>"
      ]
    },
    {
      "cell_type": "markdown",
      "metadata": {
        "id": "JbOrH2S7knXh"
      },
      "source": [
        "This is a small python web server that can be run in Google Colab and Jupyter Notebook. It uses ngrok to allow for public access. "
      ]
    },
    {
      "cell_type": "code",
      "metadata": {
        "id": "PMrsudTcE81_"
      },
      "source": [
        "!pip install flask-ngrok"
      ],
      "execution_count": null,
      "outputs": []
    },
    {
      "cell_type": "code",
      "metadata": {
        "id": "gZa5J_DJjEI_"
      },
      "source": [
        "#this makes a static folder to put our static files is.\n",
        "!mkdir -p web/static"
      ],
      "execution_count": null,
      "outputs": []
    },
    {
      "cell_type": "code",
      "metadata": {
        "id": "5kBARwX7Npdq"
      },
      "source": [
        "!git clone https://github.com/opencoca/simpleweb.git"
      ],
      "execution_count": null,
      "outputs": []
    },
    {
      "cell_type": "code",
      "metadata": {
        "id": "1balREYgNrpx"
      },
      "source": [
        "#Move into the simpleweb directory\n",
        "\n",
        "%cd simpleweb/"
      ],
      "execution_count": null,
      "outputs": []
    },
    {
      "cell_type": "code",
      "metadata": {
        "id": "lHSeR9gQN548"
      },
      "source": [
        "#list the files in the simpleweb directory\n",
        "!ls "
      ],
      "execution_count": null,
      "outputs": []
    },
    {
      "cell_type": "code",
      "metadata": {
        "id": "BknJWmZEN-Zd"
      },
      "source": [
        "#Make a web directory if one doesn't exit\n",
        "!mkdir -p web"
      ],
      "execution_count": null,
      "outputs": []
    },
    {
      "cell_type": "code",
      "metadata": {
        "id": "Urt_IuPkOGzh"
      },
      "source": [
        "#Make static and templates directories if they don't exist\n",
        "!mkdir -p web/static\n",
        "!mkdir -p web/templates"
      ],
      "execution_count": null,
      "outputs": []
    },
    {
      "cell_type": "code",
      "metadata": {
        "id": "Xf0cZH0UOSAq"
      },
      "source": [
        "#Touching the files to ensure that they are in the static and templates\n",
        "!touch web/static/index.html\n",
        "!touch web/templates/index.html"
      ],
      "execution_count": null,
      "outputs": []
    },
    {
      "cell_type": "code",
      "metadata": {
        "id": "Lnn4D-2WTg8d"
      },
      "source": [
        "#!git remote set-url origin Your REPO NAME HERE"
      ],
      "execution_count": null,
      "outputs": []
    },
    {
      "cell_type": "code",
      "metadata": {
        "id": "SdUJlAnyQo-O"
      },
      "source": [
        "!cat .git/config"
      ],
      "execution_count": null,
      "outputs": []
    },
    {
      "cell_type": "code",
      "metadata": {
        "id": "pGeXnuVNO2jg"
      },
      "source": [
        "#!git add *\n"
      ],
      "execution_count": null,
      "outputs": []
    },
    {
      "cell_type": "code",
      "metadata": {
        "id": "CCvgOPqYPBp5"
      },
      "source": [
        "#!git config --global user.email \"Your email here\"\n",
        "#!git config --global user.name \"your name here\""
      ],
      "execution_count": null,
      "outputs": []
    },
    {
      "cell_type": "code",
      "metadata": {
        "id": "A_Pgl_XQO-Dt"
      },
      "source": [
        "#!git commit -m \"my latest touch\""
      ],
      "execution_count": null,
      "outputs": []
    },
    {
      "cell_type": "code",
      "metadata": {
        "id": "CUN60r39Rj1_"
      },
      "source": [
        "#!git push "
      ],
      "execution_count": null,
      "outputs": []
    },
    {
      "cell_type": "code",
      "metadata": {
        "id": "xGzADLpRRmCX"
      },
      "source": [
        ""
      ],
      "execution_count": null,
      "outputs": []
    },
    {
      "cell_type": "code",
      "metadata": {
        "id": "TJtTUUc_E67t"
      },
      "source": [
        "\"\"\"The following will run a small flask server that will serve static files from web/static and will provide a template folder of web/templates\"\"\"\n",
        "\n",
        "from flask_ngrok import run_with_ngrok\n",
        "import time\n",
        "from flask import Flask\n",
        "app = Flask(__name__,\n",
        "            static_url_path='', \n",
        "            static_folder='web/static',\n",
        "            template_folder='web/templates')\n",
        "run_with_ngrok(app)   #starts ngrok when the app is run\n",
        "\n",
        "@app.route('/')\n",
        "def root():\n",
        "    return app.send_static_file('index.html')\n",
        "\n",
        "#These lines are commented out so as to only server static files and not dynamic content\n",
        "#@app.route('/')\n",
        "#def root():\n",
        "#    #return \"This can be anything\"\n",
        "#    return \"<html><h1>\"+str(time.ctime())+\"</h1></html>\"\n",
        "\n",
        "app.run()"
      ],
      "execution_count": null,
      "outputs": []
    }
  ]
}